{
 "cells": [
  {
   "cell_type": "code",
   "execution_count": 1,
   "id": "64db41ea-cd7b-43ce-a963-c55a11ec24cb",
   "metadata": {},
   "outputs": [],
   "source": [
    "import sqlite3\n",
    "import pandas as pd\n",
    "import matplotlib.pyplot as plt\n"
   ]
  },
  {
   "cell_type": "code",
   "execution_count": 9,
   "id": "cbd45f68-60bb-466c-ac94-91b5a1088228",
   "metadata": {},
   "outputs": [],
   "source": [
    "# Connect to (or create) the database\n",
    "conn = sqlite3.connect(\"sales_data.db\")\n",
    "cursor = conn.cursor()\n",
    "\n",
    "# Create a table\n",
    "cursor.execute(\"\"\"\n",
    "CREATE TABLE IF NOT EXISTS sales (\n",
    "    id INTEGER PRIMARY KEY AUTOINCREMENT,\n",
    "    product TEXT,\n",
    "    quantity INTEGER,\n",
    "    price REAL\n",
    ")\n",
    "\"\"\")\n",
    "\n",
    "# Insert sales data\n",
    "sample_data = [\n",
    "    ('Laptop', 5, 60000),\n",
    "    ('Laptop', 3, 62000),\n",
    "    ('Mouse', 15, 800),\n",
    "    ('Mouse', 10, 750),\n",
    "    ('Keyboard', 8, 1500),\n",
    "    ('Keyboard', 5, 1600),\n",
    "    ('Monitor', 4, 12000),\n",
    "    ('Monitor', 6, 11000)\n",
    "]\n",
    "\n",
    "cursor.executemany(\"INSERT INTO sales (product, quantity, price) VALUES (?, ?, ?)\", sample_data)\n",
    "conn.commit()\n"
   ]
  },
  {
   "cell_type": "code",
   "execution_count": 10,
   "id": "f67ba1ac-a5fb-4f07-82aa-89b2393fb405",
   "metadata": {},
   "outputs": [],
   "source": [
    "# total quantity and revenue per product\n",
    "query = \"\"\"\n",
    "SELECT \n",
    "    product, \n",
    "    SUM(quantity) AS total_quantity, \n",
    "    SUM(quantity * price) AS total_revenue\n",
    "FROM sales\n",
    "GROUP BY product\n",
    "\"\"\"\n",
    "\n",
    "# Load results \n",
    "df = pd.read_sql_query(query, conn)\n"
   ]
  },
  {
   "cell_type": "code",
   "execution_count": 5,
   "id": "f68d1f36-5304-4af1-9e90-cfec40dd6206",
   "metadata": {},
   "outputs": [
    {
     "name": "stdout",
     "output_type": "stream",
     "text": [
      "Basic Sales Summary:\n",
      "    product  total_quantity  total_revenue\n",
      "0  Keyboard              26        40000.0\n",
      "1    Laptop              16       972000.0\n",
      "2   Monitor              20       228000.0\n",
      "3     Mouse              50        39000.0\n"
     ]
    }
   ],
   "source": [
    "print(\"Basic Sales Summary:\")\n",
    "print(df)\n"
   ]
  },
  {
   "cell_type": "code",
   "execution_count": 6,
   "id": "c14e8b9c-7fd8-44b8-b943-4aaaba835d3b",
   "metadata": {},
   "outputs": [
    {
     "data": {
      "image/png": "[encoded data removed]",
      "text/plain": [
       "<Figure size 800x500 with 1 Axes>"
      ]
     },
     "metadata": {},
     "output_type": "display_data"
    }
   ],
   "source": [
    "plt.figure(figsize=(8,5))\n",
    "plt.bar(df['product'], df['total_revenue'], color='skyblue')\n",
    "plt.title(\"Total Revenue by Product\")\n",
    "plt.xlabel(\"Product\")\n",
    "plt.ylabel(\"Revenue (₹)\")\n",
    "plt.tight_layout()\n",
    "plt.show()\n"
   ]
  },
  {
   "cell_type": "code",
   "execution_count": 7,
   "id": "ece29e13-df93-4326-bba0-03beaae3a2c1",
   "metadata": {},
   "outputs": [
    {
     "data": {
      "text/plain": [
       "<Figure size 640x480 with 0 Axes>"
      ]
     },
     "metadata": {},
     "output_type": "display_data"
    }
   ],
   "source": [
    "plt.savefig(\"sales_chart.png\")\n"
   ]
  },
  {
   "cell_type": "code",
   "execution_count": 8,
   "id": "f3945383-2690-4bd5-9b59-b3edde956d33",
   "metadata": {},
   "outputs": [],
   "source": [
    "conn.close()\n"
   ]
  },
  {
   "cell_type": "code",
   "execution_count": null,
   "id": "66322ef1-44be-464d-90a4-17c6529c8983",
   "metadata": {},
   "outputs": [],
   "source": []
  }
 ],
 "metadata": {
  "kernelspec": {
   "display_name": "Python 3 (ipykernel)",
   "language": "python",
   "name": "python3"
  },
  "language_info": {
   "codemirror_mode": {
    "name": "ipython",
    "version": 3
   },
   "file_extension": ".py",
   "mimetype": "text/x-python",
   "name": "python",
   "nbconvert_exporter": "python",
   "pygments_lexer": "ipython3",
   "version": "3.12.5"
  }
 },
 "nbformat": 4,
 "nbformat_minor": 5
}
